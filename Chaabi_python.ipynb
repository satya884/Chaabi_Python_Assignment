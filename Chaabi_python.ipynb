{
  "nbformat": 4,
  "nbformat_minor": 0,
  "metadata": {
    "colab": {
      "provenance": [],
      "authorship_tag": "ABX9TyOoborWwIk7rTfTz7hVeR2B",
      "include_colab_link": true
    },
    "kernelspec": {
      "name": "python3",
      "display_name": "Python 3"
    },
    "language_info": {
      "name": "python"
    }
  },
  "cells": [
    {
      "cell_type": "markdown",
      "metadata": {
        "id": "view-in-github",
        "colab_type": "text"
      },
      "source": [
        "<a href=\"https://colab.research.google.com/github/satya884/Chaabi_Python_Assignment/blob/main/Chaabi_python.ipynb\" target=\"_parent\"><img src=\"https://colab.research.google.com/assets/colab-badge.svg\" alt=\"Open In Colab\"/></a>"
      ]
    },
    {
      "cell_type": "code",
      "execution_count": 5,
      "metadata": {
        "colab": {
          "base_uri": "https://localhost:8080/"
        },
        "id": "WcGzTOd02NMZ",
        "outputId": "d65466ab-570f-4b2a-efd0-d433fc1f1e0d"
      },
      "outputs": [
        {
          "output_type": "stream",
          "name": "stdout",
          "text": [
            "Enter number of elements5\n",
            "6\n",
            "7\n",
            "4\n",
            "3\n",
            "8\n",
            "[6, 7, 4, 3, 8]\n",
            "[3, 4, 6, 7, 8]\n"
          ]
        }
      ],
      "source": [
        "#1.\n",
        "def selectionSort(array, size):\n",
        "  for ind in range(size):\n",
        "    min_index = ind\n",
        "    for j in range(ind + 1, size):\n",
        "      if array[j] < array[min_index]:\n",
        "        min_index = j\n",
        "    (array[ind], array[min_index]) = (array[min_index], array[ind])\n",
        "\n",
        "l=[]\n",
        "\n",
        "n=int(input(\"Enter number of elements\"))\n",
        "for i in range(0,n):\n",
        "  l.append(int(input()))\n",
        "print(l)\n",
        "selectionSort(l,n)\n",
        "print(l)\n",
        "\n"
      ]
    },
    {
      "cell_type": "code",
      "source": [
        "#2.\n",
        "def get_file_type(extension_type_str, filenames):\n",
        "    extension_type_list = extension_type_str.split(';')\n",
        "    extension_type_dict = {}\n",
        "    \n",
        "    for item in extension_type_list:\n",
        "        extension, file_type = item.split(',')\n",
        "        extension_type_dict[extension] = file_type\n",
        "    \n",
        "    result_dict = {}\n",
        "    \n",
        "    for filename in filenames:\n",
        "        parts = filename.split('.')\n",
        "        \n",
        "        if len(parts) > 1:\n",
        "            extension = parts[-1]\n",
        "            if extension in extension_type_dict:\n",
        "                result_dict[filename] = extension_type_dict[extension]\n",
        "            else:\n",
        "                result_dict[filename] = 'unknown'\n",
        "        else:\n",
        "            result_dict[filename] = 'unknown'\n",
        "    \n",
        "    return result_dict\n",
        "\n",
        "# Example usage\n",
        "extension_type_str = \"xls,spreadsheet;xlsx,spreadsheet;jpg,image;csv,Comma Separated Values\"\n",
        "filenames = [\"abc.jpg\", \"xyz.xls\", \"text.csv\", \"123\"]\n",
        "\n",
        "result = get_file_type(extension_type_str, filenames)\n",
        "print(result)\n"
      ],
      "metadata": {
        "colab": {
          "base_uri": "https://localhost:8080/"
        },
        "id": "FC8fmv3W5Yyq",
        "outputId": "c923e31d-d400-4a7f-fdf0-9aa05a97d763"
      },
      "execution_count": 7,
      "outputs": [
        {
          "output_type": "stream",
          "name": "stdout",
          "text": [
            "{'abc.jpg': 'image', 'xyz.xls': 'spreadsheet', 'text.csv': 'Comma Separated Values', '123': 'unknown'}\n"
          ]
        }
      ]
    },
    {
      "cell_type": "code",
      "source": [
        "#3.\n",
        "def sort_list_of_dicts(lst, key):\n",
        "    return sorted(lst, key=lambda x: x[key])\n",
        "\n",
        "data = [\n",
        "    {\"fruit\": \"orange\", \"color\": \"orange\"},\n",
        "    {\"fruit\": \"apple\", \"color\": \"red\"},\n",
        "    {\"fruit\": \"banana\", \"color\": \"yellow\"},\n",
        "    {\"fruit\": \"blueberry\", \"color\": \"blue\"}\n",
        "]\n",
        "\n",
        "sorted_data_by_fruit = sort_list_of_dicts(data, \"fruit\")\n",
        "print(sorted_data_by_fruit)\n",
        "\n",
        "sorted_data_by_color = sort_list_of_dicts(data, \"color\")\n",
        "print(sorted_data_by_color)\n"
      ],
      "metadata": {
        "colab": {
          "base_uri": "https://localhost:8080/"
        },
        "id": "UOGc9-R67FvV",
        "outputId": "044783fe-1c10-49aa-cd85-c7f5d6502fde"
      },
      "execution_count": 8,
      "outputs": [
        {
          "output_type": "stream",
          "name": "stdout",
          "text": [
            "[{'fruit': 'apple', 'color': 'red'}, {'fruit': 'banana', 'color': 'yellow'}, {'fruit': 'blueberry', 'color': 'blue'}, {'fruit': 'orange', 'color': 'orange'}]\n",
            "[{'fruit': 'blueberry', 'color': 'blue'}, {'fruit': 'orange', 'color': 'orange'}, {'fruit': 'apple', 'color': 'red'}, {'fruit': 'banana', 'color': 'yellow'}]\n"
          ]
        }
      ]
    },
    {
      "cell_type": "code",
      "source": [
        "#4.\n",
        "def switch_keys_values(dictionary):\n",
        "    return {v: k for k, v in dictionary.items()}\n",
        "my_dict = {\"apple\": \"fruit\", \"orange\": \"fruit\", \"carrot\": \"vegetable\"}\n",
        "\n",
        "switched_dict = switch_keys_values(my_dict)\n",
        "print(switched_dict)\n"
      ],
      "metadata": {
        "colab": {
          "base_uri": "https://localhost:8080/"
        },
        "id": "u9Dalu7h7nRM",
        "outputId": "65731979-b255-4878-fca3-2f1c4df2c0e1"
      },
      "execution_count": 14,
      "outputs": [
        {
          "output_type": "stream",
          "name": "stdout",
          "text": [
            "{'apple': 'fruit', 'orange': 'fruit', 'carrot': 'vegetable'}\n",
            "{'fruit': 'orange', 'vegetable': 'carrot'}\n"
          ]
        }
      ]
    },
    {
      "cell_type": "code",
      "source": [
        "#5.\n",
        "def compare_lists(list1, list2):\n",
        "    common_elements = list(set(list1) & set(list2))\n",
        "    non_common_elements = list(set(list1) ^ set(list2))\n",
        "    return common_elements, non_common_elements\n",
        "mainstream = [\"One Punch Man\", \"Attack On Titan\", \"One Piece\", \"Sword Art Online\", \"Bleach\", \"Dragon Ball Z\", \"One Piece\"]\n",
        "must_watch = [\"Full Metal Alchemist\", \"Code Geass\", \"Death Note\", \"Stein's Gate\", \"The Devil is a Part Timer!\", \"One Piece\", \"Attack On Titan\"]\n",
        "\n",
        "common, non_common = compare_lists(mainstream, must_watch)\n",
        "print(common)\n",
        "print(non_common)\n"
      ],
      "metadata": {
        "colab": {
          "base_uri": "https://localhost:8080/"
        },
        "id": "g5yNMzJH8VuC",
        "outputId": "565bc54f-a591-4ee8-e517-6d36caf8a695"
      },
      "execution_count": 10,
      "outputs": [
        {
          "output_type": "stream",
          "name": "stdout",
          "text": [
            "['One Piece', 'Attack On Titan']\n",
            "[\"Stein's Gate\", 'Sword Art Online', 'The Devil is a Part Timer!', 'Bleach', 'One Punch Man', 'Dragon Ball Z', 'Death Note', 'Code Geass', 'Full Metal Alchemist']\n"
          ]
        }
      ]
    },
    {
      "cell_type": "code",
      "source": [
        "#6.\n",
        "def get_sublist_with_every_second_element(lst, start_index, end_index):\n",
        "    sub_list = lst[start_index:end_index+1:2]\n",
        "    return sub_list\n",
        "my_list = [2, 3, 5, 7, 11, 13, 17, 19, 23, 29, 31, 37, 41]\n",
        "start_index = 2\n",
        "end_index = 11\n",
        "\n",
        "result = get_sublist_with_every_second_element(my_list, start_index, end_index)\n",
        "print(result)\n"
      ],
      "metadata": {
        "colab": {
          "base_uri": "https://localhost:8080/"
        },
        "id": "Q5iwWpaA8wul",
        "outputId": "e2200e5d-4fca-4cd2-eeaf-71fc02a543ad"
      },
      "execution_count": 20,
      "outputs": [
        {
          "output_type": "stream",
          "name": "stdout",
          "text": [
            "[5, 11, 17, 23, 31]\n"
          ]
        }
      ]
    },
    {
      "cell_type": "code",
      "source": [
        "#7.\n",
        "factorial = lambda n: 1 if n == 0 else n * factorial(n - 1)\n",
        "n = int(input())\n",
        "result = factorial(n)\n",
        "print(result)\n"
      ],
      "metadata": {
        "colab": {
          "base_uri": "https://localhost:8080/"
        },
        "id": "HtoqkuiD9A6Q",
        "outputId": "58c3ecbe-cdb7-4f02-8266-4f05098a86cb"
      },
      "execution_count": 13,
      "outputs": [
        {
          "output_type": "stream",
          "name": "stdout",
          "text": [
            "3628800\n"
          ]
        }
      ]
    },
    {
      "cell_type": "code",
      "source": [
        "#8.\n",
        "A0 = dict(zip(('a','b','c','d','e'),(1,2,3,4,5)))\n",
        "A1 = range(10)\n",
        "A2 = sorted([i for i in A1 if i in A0])\n",
        "A3 = sorted([A0[s] for s in A0])\n",
        "A4 = [i for i in A1 if i in A3]\n",
        "A5 = {i:i*i for i in A1}\n",
        "A6 = [[i,i*i] for i in A1]\n",
        "import functools\n",
        "A7 = functools.reduce(lambda x,y: x+y, [10,23, -45, 33])\n",
        "A8 = map(lambda x: x*2, [1,2,3,4])\n",
        "A9 = filter(lambda x: len(x) >3, [\"I\" , \"want\", \"to\", \"learn\", \"python\"])\n",
        "print(\" A0 :- \",A0,\"\\n\",\"A1 :- \",A1,\"\\n\",\"A2 :- \",A2,\"\\n\",\"A3 :- \",A3,\"\\n\",\"A4 :- \",A4,\"\\n\",\"A5 :- \",A5,\"\\n\",\"A6 :- \",A6,\"\\n\",\"A7 :- \",A7,\"\\n\",\"A8 :- \",A8,\"\\n\",\"A9 :- \",A9)\n",
        "  "
      ],
      "metadata": {
        "colab": {
          "base_uri": "https://localhost:8080/"
        },
        "id": "5O2-gzRc9Zsb",
        "outputId": "75f596a3-7f79-4d75-ca7a-d3d26dbf4f28"
      },
      "execution_count": 11,
      "outputs": [
        {
          "output_type": "stream",
          "name": "stdout",
          "text": [
            " A0 :-  {'a': 1, 'b': 2, 'c': 3, 'd': 4, 'e': 5} \n",
            " A1 :-  range(0, 10) \n",
            " A2 :-  [] \n",
            " A3 :-  [1, 2, 3, 4, 5] \n",
            " A4 :-  [1, 2, 3, 4, 5] \n",
            " A5 :-  {0: 0, 1: 1, 2: 4, 3: 9, 4: 16, 5: 25, 6: 36, 7: 49, 8: 64, 9: 81} \n",
            " A6 :-  [[0, 0], [1, 1], [2, 4], [3, 9], [4, 16], [5, 25], [6, 36], [7, 49], [8, 64], [9, 81]] \n",
            " A7 :-  21 \n",
            " A8 :-  <map object at 0x7f4861e619f0> \n",
            " A9 :-  <filter object at 0x7f4861e62620>\n"
          ]
        }
      ]
    },
    {
      "cell_type": "code",
      "source": [
        "#9\n",
        "from datetime import datetime, timedelta\n",
        "\n",
        "def check_date_range(from_date, to_date, difference):\n",
        "    # Convert date strings to datetime objects\n",
        "    from_date_obj = datetime.strptime(from_date, '%y-%m-%d')\n",
        "    to_date_obj = datetime.strptime(to_date, '%y-%m-%d')\n",
        "\n",
        "    # Calculate the difference in days\n",
        "    date_difference = abs((to_date_obj - from_date_obj).days)\n",
        "\n",
        "    # Check if the difference is less than the specified difference\n",
        "    if date_difference < difference:\n",
        "        return True\n",
        "    else:\n",
        "        return False\n",
        "\n",
        "result = check_date_range('21-05-10', '21-05-20', 15)\n",
        "print(result)  # Output: True\n",
        "\n",
        "result = check_date_range('21-05-10', '21-06-05', 25)\n",
        "print(result)  # Output: False\n"
      ],
      "metadata": {
        "colab": {
          "base_uri": "https://localhost:8080/"
        },
        "id": "qo7Ikg0ECMK1",
        "outputId": "080445c5-4b15-4f6c-d139-0de795b55066"
      },
      "execution_count": 18,
      "outputs": [
        {
          "output_type": "stream",
          "name": "stdout",
          "text": [
            "True\n",
            "False\n"
          ]
        }
      ]
    },
    {
      "cell_type": "code",
      "source": [
        "#10.\n",
        "from datetime import datetime, timedelta\n",
        "\n",
        "def get_date_before(date, n):\n",
        "    date_format = '%y-%m-%d'\n",
        "    input_date = datetime.strptime(date, date_format)\n",
        "    before_date = input_date - timedelta(days=n)\n",
        "    return before_date.strftime(date_format)\n",
        "date = input()\n",
        "n = int(input())\n",
        "\n",
        "result = get_date_before(date, n)\n",
        "print(result)\n"
      ],
      "metadata": {
        "colab": {
          "base_uri": "https://localhost:8080/"
        },
        "id": "PrxtuIIspabq",
        "outputId": "5ba61275-1f0f-4c2a-c40d-caee6d5c8193"
      },
      "execution_count": 13,
      "outputs": [
        {
          "output_type": "stream",
          "name": "stdout",
          "text": [
            "16-12-10\n",
            "11\n",
            "16-11-29\n"
          ]
        }
      ]
    },
    {
      "cell_type": "code",
      "source": [
        "#11.\n",
        "def f(x,l=[]):\n",
        "  for i in range(x):\n",
        "    l.append(i*i)\n",
        "  print(l)\n",
        "f(2)\n",
        "f(3,[3,2,1])\n",
        "f(3)"
      ],
      "metadata": {
        "colab": {
          "base_uri": "https://localhost:8080/"
        },
        "id": "cXd8Ud9gtIFT",
        "outputId": "aa5ea8c4-496e-4b61-a737-ba2e8166b2d6"
      },
      "execution_count": 17,
      "outputs": [
        {
          "output_type": "stream",
          "name": "stdout",
          "text": [
            "[0, 1]\n",
            "[3, 2, 1, 0, 1, 4]\n",
            "[0, 1, 0, 1, 4]\n"
          ]
        }
      ]
    }
  ]
}